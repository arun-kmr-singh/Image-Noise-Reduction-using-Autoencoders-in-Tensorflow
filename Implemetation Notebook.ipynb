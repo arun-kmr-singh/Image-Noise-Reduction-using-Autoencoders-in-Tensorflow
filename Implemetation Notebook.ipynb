{
  "nbformat": 4,
  "nbformat_minor": 0,
  "metadata": {
    "kernelspec": {
      "display_name": "Python 3",
      "language": "python",
      "name": "python3"
    },
    "language_info": {
      "codemirror_mode": {
        "name": "ipython",
        "version": 3
      },
      "file_extension": ".py",
      "mimetype": "text/x-python",
      "name": "python",
      "nbconvert_exporter": "python",
      "pygments_lexer": "ipython3",
      "version": "3.6.8"
    },
    "colab": {
      "name": "Task 1.ipynb",
      "provenance": [],
      "include_colab_link": true
    }
  },
  "cells": [
    {
      "cell_type": "markdown",
      "metadata": {
        "id": "view-in-github",
        "colab_type": "text"
      },
      "source": [
        "<a href=\"https://colab.research.google.com/github/arun-kmr-singh/Image-Noise-Reduction-using-Autoencoders-in-Tensorflow/blob/master/Implemetation%20Notebook.ipynb\" target=\"_parent\"><img src=\"https://colab.research.google.com/assets/colab-badge.svg\" alt=\"Open In Colab\"/></a>"
      ]
    },
    {
      "cell_type": "markdown",
      "metadata": {
        "id": "BsKhv7KrCSBL"
      },
      "source": [
        "# Image Denoising with Autoencoders\n",
        "\n",
        "## Task 1: Introduction and Importing Libraries\n",
        "___\n",
        "Note: If you are starting the notebook from this task, you can run cells from all previous tasks in the kernel by going to the top menu and then selecting Kernel > Restart and Run All\n",
        "___"
      ]
    },
    {
      "cell_type": "code",
      "metadata": {
        "id": "zdtbRPoJCSBO"
      },
      "source": [
        "import numpy as np\n",
        "import warnings\n",
        "warnings.filterwarnings('ignore')\n",
        "\n",
        "from tensorflow.keras.datasets import mnist\n",
        "from matplotlib import pyplot as plt\n",
        "from tensorflow.keras.models import Sequential, Model\n",
        "from tensorflow.keras.layers import Dense, Input\n",
        "from tensorflow.keras.callbacks import EarlyStopping, LambdaCallback\n",
        "from tensorflow.keras.utils import to_categorical\n",
        "\n",
        "%matplotlib inline"
      ],
      "execution_count": 1,
      "outputs": []
    },
    {
      "cell_type": "markdown",
      "metadata": {
        "id": "Fzbo0lR1CSBS"
      },
      "source": [
        "## Task 2: Data Preprocessing\n",
        "___\n",
        "Note: If you are starting the notebook from this task, you can run cells from all previous tasks in the kernel by going to the top menu and then selecting Kernel > Restart and Run All\n",
        "___"
      ]
    },
    {
      "cell_type": "code",
      "metadata": {
        "id": "ezPGN3fDCSBV",
        "outputId": "e0c57e9e-941a-4b2a-a0a5-a13ad68907e1",
        "colab": {
          "base_uri": "https://localhost:8080/",
          "height": 51
        }
      },
      "source": [
        "(x_train,y_train),(x_test,y_test) = mnist.load_data()\n",
        "\n",
        "x_train = x_train.astype('float')/255.\n",
        "x_test = x_test.astype('float')/255.\n",
        "\n",
        "x_train = np.reshape(x_train, (60000, 784))\n",
        "x_test = np.reshape(x_test, (10000, 784))"
      ],
      "execution_count": 2,
      "outputs": [
        {
          "output_type": "stream",
          "text": [
            "Downloading data from https://storage.googleapis.com/tensorflow/tf-keras-datasets/mnist.npz\n",
            "11493376/11490434 [==============================] - 0s 0us/step\n"
          ],
          "name": "stdout"
        }
      ]
    },
    {
      "cell_type": "markdown",
      "metadata": {
        "id": "zdoo-XzYCSBY"
      },
      "source": [
        "## Task 3: Adding Noise\n",
        "___\n",
        "Note: If you are starting the notebook from this task, you can run cells from all previous tasks in the kernel by going to the top menu and then selecting Kernel > Restart and Run All\n",
        "___"
      ]
    },
    {
      "cell_type": "code",
      "metadata": {
        "id": "zJaUVbe_CSBZ"
      },
      "source": [
        "x_train_noisy = x_train + np.random.rand(60000,784)*0.9   # 0.9 is multiplied to it for scaling so that values don't go much larger.\n",
        "x_test_noisy = x_test + np.random.rand(10000,784)*0.9\n",
        "\n",
        "x_train_noisy = np.clip(x_train_noisy, 0., 1.)\n",
        "x_test_noisy = np.clip(x_test_noisy, 0., 1.)\n"
      ],
      "execution_count": 3,
      "outputs": []
    },
    {
      "cell_type": "code",
      "metadata": {
        "id": "x9SCsgkvCSBc",
        "outputId": "93ed233c-f065-4f96-b466-b07364e75777",
        "colab": {
          "base_uri": "https://localhost:8080/",
          "height": 129
        }
      },
      "source": [
        "def plot(x, p, labels=False):\n",
        "  plt.figure(figsize=(20,2))\n",
        "  for i in range(10):\n",
        "    plt.subplot(1,10,i+1)\n",
        "    plt.imshow(x[i].reshape(28,28), cmap='binary')\n",
        "    plt.xticks([])\n",
        "    plt.yticks([])\n",
        "    if labels:\n",
        "      plt.xlabel(np.argmax(p[i]))\n",
        "  plt.show()\n",
        "\n",
        "plot(x_train, None)"
      ],
      "execution_count": 4,
      "outputs": [
        {
          "output_type": "display_data",
          "data": {
            "image/png": "[encoded data removed]",
            "text/plain": [
              "<Figure size 1440x144 with 10 Axes>"
            ]
          },
          "metadata": {
            "tags": []
          }
        }
      ]
    },
    {
      "cell_type": "code",
      "metadata": {
        "id": "nGb0HikmCSBg",
        "outputId": "25039282-9a34-4225-fa20-95bf175c1f1b",
        "colab": {
          "base_uri": "https://localhost:8080/",
          "height": 129
        }
      },
      "source": [
        "plot(x_train_noisy, None)"
      ],
      "execution_count": 5,
      "outputs": [
        {
          "output_type": "display_data",
          "data": {
            "image/png": "[encoded data removed]",
            "text/plain": [
              "<Figure size 1440x144 with 10 Axes>"
            ]
          },
          "metadata": {
            "tags": []
          }
        }
      ]
    },
    {
      "cell_type": "markdown",
      "metadata": {
        "id": "H3Yw3E78CSBj"
      },
      "source": [
        "## Task 4: Building and Training a Classifier\n",
        "___\n",
        "Note: If you are starting the notebook from this task, you can run cells from all previous tasks in the kernel by going to the top menu and then selecting Kernel > Restart and Run All\n",
        "___"
      ]
    },
    {
      "cell_type": "code",
      "metadata": {
        "id": "DO106JnOCSBj",
        "outputId": "cd2d5ede-92a8-4504-a867-d64c1ec2719a",
        "colab": {
          "base_uri": "https://localhost:8080/",
          "height": 204
        }
      },
      "source": [
        "classifier = Sequential([\n",
        "    Dense(256, activation='relu', input_shape=(784,)),\n",
        "    Dense(256, activation='relu'),\n",
        "    Dense(10, activation='softmax')\n",
        "])\n",
        "\n",
        "classifier.compile(\n",
        "    optimizer='adam',\n",
        "    loss='sparse_categorical_crossentropy',\n",
        "    metrics = ['accuracy']\n",
        ")\n",
        "\n",
        "classifier.fit(x_train,y_train,batch_size=512,epochs=5)\n"
      ],
      "execution_count": 6,
      "outputs": [
        {
          "output_type": "stream",
          "text": [
            "Epoch 1/5\n",
            "118/118 [==============================] - 2s 14ms/step - loss: 0.4161 - accuracy: 0.8863\n",
            "Epoch 2/5\n",
            "118/118 [==============================] - 2s 14ms/step - loss: 0.1510 - accuracy: 0.9565\n",
            "Epoch 3/5\n",
            "118/118 [==============================] - 2s 14ms/step - loss: 0.1038 - accuracy: 0.9700\n",
            "Epoch 4/5\n",
            "118/118 [==============================] - 2s 14ms/step - loss: 0.0762 - accuracy: 0.9775\n",
            "Epoch 5/5\n",
            "118/118 [==============================] - 2s 13ms/step - loss: 0.0592 - accuracy: 0.9825\n"
          ],
          "name": "stdout"
        },
        {
          "output_type": "execute_result",
          "data": {
            "text/plain": [
              "<tensorflow.python.keras.callbacks.History at 0x7fa011724860>"
            ]
          },
          "metadata": {
            "tags": []
          },
          "execution_count": 6
        }
      ]
    },
    {
      "cell_type": "code",
      "metadata": {
        "id": "2JwnZnFGCSBn",
        "outputId": "ac2def2f-cecc-49cf-d890-c0c9e2db8ad8",
        "colab": {
          "base_uri": "https://localhost:8080/",
          "height": 51
        }
      },
      "source": [
        "loss, acc = classifier.evaluate(x_test,y_test)     # Testing the accuracy over test data on trained model.\n",
        "print(acc)"
      ],
      "execution_count": 7,
      "outputs": [
        {
          "output_type": "stream",
          "text": [
            "313/313 [==============================] - 0s 1ms/step - loss: 0.0743 - accuracy: 0.9768\n",
            "0.9768000245094299\n"
          ],
          "name": "stdout"
        }
      ]
    },
    {
      "cell_type": "code",
      "metadata": {
        "id": "DC413F0uCSBq",
        "outputId": "1c92d953-32a7-4be3-8ee8-41c36994536f",
        "colab": {
          "base_uri": "https://localhost:8080/",
          "height": 51
        }
      },
      "source": [
        "loss, acc = classifier.evaluate(x_test_noisy,y_test)    # Testing the accuracy of predictions over noisy images on trained model.\n",
        "print(acc)"
      ],
      "execution_count": 8,
      "outputs": [
        {
          "output_type": "stream",
          "text": [
            "313/313 [==============================] - 0s 1ms/step - loss: 8.0867 - accuracy: 0.2162\n",
            "0.21619999408721924\n"
          ],
          "name": "stdout"
        }
      ]
    },
    {
      "cell_type": "markdown",
      "metadata": {
        "id": "ytb5o7axCSBs"
      },
      "source": [
        "## Task 5: Building the Autoencoder\n",
        "___\n",
        "Note: If you are starting the notebook from this task, you can run cells from all previous tasks in the kernel by going to the top menu and then selecting Kernel > Restart and Run All\n",
        "___"
      ]
    },
    {
      "cell_type": "code",
      "metadata": {
        "id": "l9J85N7sCSBt"
      },
      "source": [
        "input_image = Input(shape=(784,))\n",
        "encoded = Dense(64,activation='relu')(input_image)\n",
        "decoded = Dense(784, activation='sigmoid')(encoded)\n",
        "\n",
        "autoencoder = Model(input_image,decoded)\n",
        "autoencoder.compile(loss='binary_crossentropy',optimizer='adam')"
      ],
      "execution_count": 9,
      "outputs": []
    },
    {
      "cell_type": "markdown",
      "metadata": {
        "id": "EtDNG8PECSBv"
      },
      "source": [
        "## Task 6: Training the Autoencoder\n",
        "___\n",
        "Note: If you are starting the notebook from this task, you can run cells from all previous tasks in the kernel by going to the top menu and then selecting Kernel > Restart and Run All\n",
        "___"
      ]
    },
    {
      "cell_type": "code",
      "metadata": {
        "id": "4efZHpa7CSBw"
      },
      "source": [
        ""
      ],
      "execution_count": 8,
      "outputs": []
    },
    {
      "cell_type": "markdown",
      "metadata": {
        "id": "wae_2bLZCSBy"
      },
      "source": [
        "## Task 7: Denoised Images\n",
        "___\n",
        "Note: If you are starting the notebook from this task, you can run cells from all previous tasks in the kernel by going to the top menu and then selecting Kernel > Restart and Run All\n",
        "___"
      ]
    },
    {
      "cell_type": "code",
      "metadata": {
        "id": "mleNuNTNCSBz"
      },
      "source": [
        ""
      ],
      "execution_count": 8,
      "outputs": []
    },
    {
      "cell_type": "code",
      "metadata": {
        "id": "rAlBEScOCSB2"
      },
      "source": [
        ""
      ],
      "execution_count": 8,
      "outputs": []
    },
    {
      "cell_type": "code",
      "metadata": {
        "id": "TwSP9mumCSB5"
      },
      "source": [
        ""
      ],
      "execution_count": 8,
      "outputs": []
    },
    {
      "cell_type": "code",
      "metadata": {
        "id": "g3fm9ZQDCSB7"
      },
      "source": [
        ""
      ],
      "execution_count": 8,
      "outputs": []
    },
    {
      "cell_type": "markdown",
      "metadata": {
        "id": "ormBvJdcCSB_"
      },
      "source": [
        "## Task 8: Composite Model\n",
        "___\n",
        "Note: If you are starting the notebook from this task, you can run cells from all previous tasks in the kernel by going to the top menu and then selecting Kernel > Restart and Run All\n",
        "___"
      ]
    },
    {
      "cell_type": "code",
      "metadata": {
        "id": "TZhZ1y03CSCA"
      },
      "source": [
        ""
      ],
      "execution_count": 8,
      "outputs": []
    },
    {
      "cell_type": "code",
      "metadata": {
        "id": "IOBVLlaBCSCD"
      },
      "source": [
        ""
      ],
      "execution_count": 8,
      "outputs": []
    },
    {
      "cell_type": "code",
      "metadata": {
        "id": "YYU6wwBmCSCF"
      },
      "source": [
        ""
      ],
      "execution_count": 8,
      "outputs": []
    },
    {
      "cell_type": "code",
      "metadata": {
        "id": "qW4sYCGACSCI"
      },
      "source": [
        ""
      ],
      "execution_count": 8,
      "outputs": []
    }
  ]
}